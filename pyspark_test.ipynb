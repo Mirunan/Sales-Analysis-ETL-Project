{
 "cells": [
  {
   "cell_type": "markdown",
   "id": "a336ad13-3ea7-47f9-8ed7-c5052cbf5e01",
   "metadata": {},
   "source": [
    "# ETL Project: Analyzing Factors Affecting Sales in a Large Retailer\n",
    "\n",
    "### Author: Mirunan\n",
    "\n",
    "---\n",
    "\n",
    "## Project Overview\n",
    "\n",
    "This project aims to analyze the factors affecting sales in a large retail chain. Using a structured ETL (Extract, Transform, Load) process, we will analyze data from various sources to understand the impact of external factors like temperature, fuel price, consumer price index (CPI), and unemployment on weekly sales."
   ]
  },
  {
   "cell_type": "code",
   "execution_count": 1,
   "id": "13281ecc-9f9a-45af-97aa-c9d0044a8aa1",
   "metadata": {},
   "outputs": [],
   "source": [
    "import findspark\n",
    "findspark.init()\n"
   ]
  },
  {
   "cell_type": "code",
   "execution_count": 2,
   "id": "8e941d8a-75a0-40bf-ac57-06aee228fd9d",
   "metadata": {},
   "outputs": [],
   "source": [
    "from pyspark.sql import SparkSession\n",
    "\n",
    "spark = SparkSession.builder \\\n",
    "    .appName(\"My PySpark Notebook\") \\\n",
    "    .getOrCreate()\n"
   ]
  },
  {
   "cell_type": "code",
   "execution_count": 3,
   "id": "662452e6-40f0-435c-af43-dcc322f73179",
   "metadata": {},
   "outputs": [],
   "source": [
    "# Load a CSV file into a DataFrame\n",
    "df = spark.read.csv(\"C:\\\\Users\\\\mirun\\\\pyspark\\\\Walmart_Sales.csv\", header=True, inferSchema=True)\n"
   ]
  },
  {
   "cell_type": "code",
   "execution_count": 4,
   "id": "25c4b108-56e5-4fcb-ba86-30861b0944ef",
   "metadata": {},
   "outputs": [
    {
     "name": "stdout",
     "output_type": "stream",
     "text": [
      "C:\\Users\\mirun\\pyspark\n"
     ]
    }
   ],
   "source": [
    "import os\n",
    "print(os.getcwd())\n"
   ]
  },
  {
   "cell_type": "code",
   "execution_count": null,
   "id": "eaf9311c-7736-4593-9ae5-1f09f76fb668",
   "metadata": {},
   "outputs": [],
   "source": []
  },
  {
   "cell_type": "code",
   "execution_count": null,
   "id": "f0663c9f-7f98-4cce-b4dc-382f87e99636",
   "metadata": {},
   "outputs": [],
   "source": []
  },
  {
   "cell_type": "code",
   "execution_count": 5,
   "id": "ed810a48-b606-4ce2-bef8-5e7b6a04ba66",
   "metadata": {},
   "outputs": [
    {
     "name": "stdout",
     "output_type": "stream",
     "text": [
      "+-----+----------+------------+------------+-----------+----------+-----------+------------+\n",
      "|Store|      Date|Weekly_Sales|Holiday_Flag|Temperature|Fuel_Price|        CPI|Unemployment|\n",
      "+-----+----------+------------+------------+-----------+----------+-----------+------------+\n",
      "|    1|05-02-2010|   1643690.9|           0|      42.31|     2.572|211.0963582|       8.106|\n",
      "|    1|12-02-2010|  1641957.44|           1|      38.51|     2.548|211.2421698|       8.106|\n",
      "|    1|19-02-2010|  1611968.17|           0|      39.93|     2.514|211.2891429|       8.106|\n",
      "|    1|26-02-2010|  1409727.59|           0|      46.63|     2.561|211.3196429|       8.106|\n",
      "|    1|05-03-2010|  1554806.68|           0|       46.5|     2.625|211.3501429|       8.106|\n",
      "+-----+----------+------------+------------+-----------+----------+-----------+------------+\n",
      "only showing top 5 rows\n",
      "\n"
     ]
    }
   ],
   "source": [
    "#STEP - 1 EXTRACT\n",
    "\n",
    "\n",
    "df.show(5)"
   ]
  },
  {
   "cell_type": "code",
   "execution_count": 6,
   "id": "fa0f5c2f-d623-486c-b680-b73dc7a6c931",
   "metadata": {},
   "outputs": [
    {
     "name": "stdout",
     "output_type": "stream",
     "text": [
      "root\n",
      " |-- Store: integer (nullable = true)\n",
      " |-- Date: string (nullable = true)\n",
      " |-- Weekly_Sales: double (nullable = true)\n",
      " |-- Holiday_Flag: integer (nullable = true)\n",
      " |-- Temperature: double (nullable = true)\n",
      " |-- Fuel_Price: double (nullable = true)\n",
      " |-- CPI: double (nullable = true)\n",
      " |-- Unemployment: double (nullable = true)\n",
      "\n"
     ]
    }
   ],
   "source": [
    "df.printSchema()"
   ]
  },
  {
   "cell_type": "code",
   "execution_count": 7,
   "id": "ec33570e-b0fd-4524-bc33-ba9fe19725cb",
   "metadata": {},
   "outputs": [
    {
     "name": "stdout",
     "output_type": "stream",
     "text": [
      "+-------+------------------+----------+------------------+-------------------+------------------+-------------------+-----------------+------------------+\n",
      "|summary|             Store|      Date|      Weekly_Sales|       Holiday_Flag|       Temperature|         Fuel_Price|              CPI|      Unemployment|\n",
      "+-------+------------------+----------+------------------+-------------------+------------------+-------------------+-----------------+------------------+\n",
      "|  count|              6435|      6435|              6435|               6435|              6435|               6435|             6435|              6435|\n",
      "|   mean|              23.0|      null|1046964.8775617732|0.06993006993006994| 60.66378243978229|  3.358606837606832|171.5783938487799| 7.999151048951067|\n",
      "| stddev|12.988182381175454|      null| 564366.6220536977| 0.2550489443698279|18.444932875811585|0.45901970719285223|39.35671229566419|1.8758847818627944|\n",
      "|    min|                 1|01-04-2011|         209986.25|                  0|             -2.06|              2.472|          126.064|             3.879|\n",
      "|    max|                45|31-12-2010|        3818686.45|                  1|            100.14|              4.468|      227.2328068|            14.313|\n",
      "+-------+------------------+----------+------------------+-------------------+------------------+-------------------+-----------------+------------------+\n",
      "\n"
     ]
    }
   ],
   "source": [
    "df.describe().show()"
   ]
  },
  {
   "cell_type": "code",
   "execution_count": null,
   "id": "f847bf59-1c32-4b56-830e-ef299886738b",
   "metadata": {},
   "outputs": [],
   "source": []
  },
  {
   "cell_type": "code",
   "execution_count": null,
   "id": "1c6d2f86-042d-44b8-a9f9-25782d57e050",
   "metadata": {},
   "outputs": [],
   "source": []
  },
  {
   "cell_type": "code",
   "execution_count": 8,
   "id": "45ab17a4-9d72-40b6-aa70-67041e32a85f",
   "metadata": {},
   "outputs": [],
   "source": [
    "# TRASNOFRM"
   ]
  },
  {
   "cell_type": "code",
   "execution_count": 9,
   "id": "c130bbc7-090e-492a-ae28-f3dc6e1b547a",
   "metadata": {},
   "outputs": [
    {
     "name": "stdout",
     "output_type": "stream",
     "text": [
      "+-----+----+------------+------------+-----------+----------+---+------------+\n",
      "|Store|Date|Weekly_Sales|Holiday_Flag|Temperature|Fuel_Price|CPI|Unemployment|\n",
      "+-----+----+------------+------------+-----------+----------+---+------------+\n",
      "|    0|   0|           0|           0|          0|         0|  0|           0|\n",
      "+-----+----+------------+------------+-----------+----------+---+------------+\n",
      "\n"
     ]
    }
   ],
   "source": [
    "from pyspark.sql.functions import col, to_date, month, sum, avg, count, when\n",
    "\n",
    "\n",
    "null_counts = df.select([count(when(col(c).isNull(), c)).alias(c) for c in df.columns])\n",
    "null_counts.show()"
   ]
  },
  {
   "cell_type": "code",
   "execution_count": 10,
   "id": "46f084a3-982e-4f12-82ba-ddc7ab20e5a0",
   "metadata": {},
   "outputs": [
    {
     "name": "stdout",
     "output_type": "stream",
     "text": [
      "Number of rows with negative Weekly Sales: 0\n"
     ]
    }
   ],
   "source": [
    "#CHECK FOR INCCRECT VALUES\n",
    "negative_sales = df.filter(col(\"Weekly_Sales\") < 0)\n",
    "negative_sales_count = negative_sales.count()\n",
    "print(f\"Number of rows with negative Weekly Sales: {negative_sales_count}\")\n",
    "\n"
   ]
  },
  {
   "cell_type": "code",
   "execution_count": 11,
   "id": "04d478d8-9a7d-4dbe-aef8-03924c272593",
   "metadata": {},
   "outputs": [
    {
     "name": "stdout",
     "output_type": "stream",
     "text": [
      "Number of rows with unrealistic Temperature in Celsius: 0\n"
     ]
    }
   ],
   "source": [
    "# Convert Temperature from Fahrenheit to Celsius\n",
    "df = df.withColumn(\"Temperature_Celsius\", (col(\"Temperature\") - 32) * 5 / 9)\n",
    "\n",
    "\n",
    "# Check for unrealistic Temperature values in Celsius\n",
    "unrealistic_temperature = df.filter((col(\"Temperature_Celsius\") < -50) | (col(\"Temperature_Celsius\") > 50))\n",
    "unrealistic_temperature_count = unrealistic_temperature.count()\n",
    "print(f\"Number of rows with unrealistic Temperature in Celsius: {unrealistic_temperature_count}\")\n"
   ]
  },
  {
   "cell_type": "code",
   "execution_count": null,
   "id": "3971cc0f-8edc-4b0f-bcf6-f9f61f924ef6",
   "metadata": {},
   "outputs": [],
   "source": []
  },
  {
   "cell_type": "code",
   "execution_count": 12,
   "id": "dcf8667a-dbfb-4f67-85f3-7d9fc41a3542",
   "metadata": {},
   "outputs": [
    {
     "name": "stdout",
     "output_type": "stream",
     "text": [
      "+-----+----------+------------+------------+-----------+----------+-----------+------------+-------------------+\n",
      "|Store|      Date|Weekly_Sales|Holiday_Flag|Temperature|Fuel_Price|        CPI|Unemployment|Temperature_Celsius|\n",
      "+-----+----------+------------+------------+-----------+----------+-----------+------------+-------------------+\n",
      "|    1|05-02-2010|   1643690.9|           0|      42.31|     2.572|211.0963582|       8.106|  5.727777777777779|\n",
      "|    1|12-02-2010|  1641957.44|           1|      38.51|     2.548|211.2421698|       8.106| 3.6166666666666654|\n",
      "|    1|19-02-2010|  1611968.17|           0|      39.93|     2.514|211.2891429|       8.106|  4.405555555555555|\n",
      "|    1|26-02-2010|  1409727.59|           0|      46.63|     2.561|211.3196429|       8.106|  8.127777777777778|\n",
      "|    1|05-03-2010|  1554806.68|           0|       46.5|     2.625|211.3501429|       8.106|  8.055555555555555|\n",
      "|    1|12-03-2010|  1439541.59|           0|      57.79|     2.667|211.3806429|       8.106| 14.327777777777776|\n",
      "|    1|19-03-2010|  1472515.79|           0|      54.58|      2.72| 211.215635|       8.106| 12.544444444444444|\n",
      "|    1|26-03-2010|  1404429.92|           0|      51.45|     2.732|211.0180424|       8.106| 10.805555555555557|\n",
      "|    1|02-04-2010|  1594968.28|           0|      62.27|     2.719|210.8204499|       7.808|  16.81666666666667|\n",
      "|    1|09-04-2010|  1545418.53|           0|      65.86|      2.77|210.6228574|       7.808| 18.811111111111114|\n",
      "+-----+----------+------------+------------+-----------+----------+-----------+------------+-------------------+\n",
      "only showing top 10 rows\n",
      "\n"
     ]
    }
   ],
   "source": [
    "df.show(10)"
   ]
  },
  {
   "cell_type": "code",
   "execution_count": 25,
   "id": "9d1204ca-2ce4-41ca-8b6c-a540ee32711b",
   "metadata": {},
   "outputs": [
    {
     "name": "stdout",
     "output_type": "stream",
     "text": [
      "+-----+-----+--------------------+-------------------+\n",
      "|Store|Month|  Total_Weekly_Sales|Average_Temperature|\n",
      "+-----+-----+--------------------+-------------------+\n",
      "|   39|   11|       1.296493728E7|  62.58500000000001|\n",
      "|   43|    7|          8797377.36|  83.90357142857144|\n",
      "|   10|    2|2.4941794599999998E7|  54.14666666666667|\n",
      "|   23|    6|       1.935221371E7|  64.19461538461539|\n",
      "|   33|    8|  3290940.3099999996|  95.39846153846155|\n",
      "|   41|    3|1.4893696289999997E7|  37.60230769230769|\n",
      "|   16|    3|          6241637.49| 32.823076923076925|\n",
      "|   17|    2|          9955253.06|  22.46083333333333|\n",
      "|   17|    1|   6984197.720000001|           22.09375|\n",
      "|   27|    9|        2.17501172E7|  69.44384615384615|\n",
      "|   34|    5|1.1517461929999998E7|  63.33833333333333|\n",
      "|   13|   10|       2.518715197E7|              55.25|\n",
      "|   32|    8|1.5575600919999998E7|  73.90230769230769|\n",
      "|    4|   10|       2.671301505E7|  62.51923076923078|\n",
      "|    9|   10|          6876571.84|  66.90384615384616|\n",
      "|   24|   10|       1.708338059E7| 55.302307692307686|\n",
      "|   34|    9|1.2011798559999999E7|  70.02076923076923|\n",
      "|   44|    8|  4050138.8800000004|  78.24384615384616|\n",
      "|   45|    4|       1.097803948E7| 53.633571428571436|\n",
      "|    6|    1|       1.058637335E7|             48.225|\n",
      "+-----+-----+--------------------+-------------------+\n",
      "only showing top 20 rows\n",
      "\n"
     ]
    }
   ],
   "source": [
    "\n",
    "# Adjust the date format to match \"DD-MM-YYYY\"\n",
    "clean_df = df.withColumn(\"Date\", to_date(col(\"Date\"), \"dd-MM-yyyy\"))\n",
    "clean_df = clean_df.withColumn(\"Month\", month(col(\"Date\")))\n",
    "\n",
    "# Perform aggregation by Store and Month\n",
    "monthly_sales = clean_df.groupBy(\"Store\", \"Month\").agg(\n",
    "    sum(\"Weekly_Sales\").alias(\"Total_Weekly_Sales\"),\n",
    "    avg(\"Temperature\").alias(\"Average_Temperature\")\n",
    ")\n",
    "\n",
    "# Show the result\n",
    "monthly_sales.show()\n"
   ]
  },
  {
   "cell_type": "code",
   "execution_count": 49,
   "id": "bf8253df-ede3-42dc-9ac7-e0dc3b968afa",
   "metadata": {},
   "outputs": [],
   "source": [
    "#SALES  ANALYSIS BY Season and Holidays"
   ]
  },
  {
   "cell_type": "code",
   "execution_count": null,
   "id": "da0613b1-105e-43f9-a779-6821315b8d64",
   "metadata": {},
   "outputs": [],
   "source": [
    "#WEEK AND YEAR\n",
    "removed_null_df = removed_null_df.withColumn(wee\n"
   ]
  }
 ],
 "metadata": {
  "kernelspec": {
   "display_name": "Python 3 (ipykernel)",
   "language": "python",
   "name": "python3"
  },
  "language_info": {
   "codemirror_mode": {
    "name": "ipython",
    "version": 3
   },
   "file_extension": ".py",
   "mimetype": "text/x-python",
   "name": "python",
   "nbconvert_exporter": "python",
   "pygments_lexer": "ipython3",
   "version": "3.8.20"
  }
 },
 "nbformat": 4,
 "nbformat_minor": 5
}
